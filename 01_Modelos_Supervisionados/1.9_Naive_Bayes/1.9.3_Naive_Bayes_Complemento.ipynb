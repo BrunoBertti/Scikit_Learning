{
 "cells": [
  {
   "cell_type": "markdown",
   "metadata": {},
   "source": [
    "# 1.9.3. Complemento Naive Bayes \n",
    "    \n",
    "## O ComplementNB implementa o algoritmo Bayes naive do complemento (CNB). CNB é uma adaptação do algoritmo padrão multinomial ingênuo Bayes (MNB) que é particularmente adequado para conjuntos de dados desequilibrados. Especificamente, o CNB usa estatísticas do complemento de cada classe para calcular os pesos do modelo. Os inventores do CNB mostram empiricamente que as estimativas dos parâmetros para o CNB são mais estáveis do que para o MNB. Além disso, o CNB regularmente supera o MNB (muitas vezes por uma margem considerável) em tarefas de classificação de texto. O procedimento para calcular os pesos é o seguinte: \n",
    "\n",
    "        ### \\begin{align}\\begin{aligned}\\hat{\\theta}_{ci} = \\frac{\\alpha_i + \\sum_{j:y_j \\neq c} d_{ij}}\n",
    "                         {\\alpha + \\sum_{j:y_j \\neq c} \\sum_{k} d_{kj}}\\\\w_{ci} = \\log \\hat{\\theta}_{ci}\\\\w_{ci} = \\frac{w_{ci}}{\\sum_{j} |w_{cj}|}\\end{aligned}\\end{align}\n",
    "\n",
    "## onde as somas são sobre todos os documentos j não na classe c, d_ {ij} é a contagem ou o valor tf-idf do termo no documento j, \\ alpha_i é um hiperparâmetro de suavização como aquele encontrado no MNB, e \\ alpha = \\ sum_ {i} \\ alpha_i. A segunda normalização aborda a tendência de documentos mais longos dominarem as estimativas de parâmetros no MNB. A regra de classificação é:\n",
    "\n",
    "        ### \\ hat {c} = \\ arg \\ min_c \\ sum_ {i} t_i w_ {ci}\n",
    "\n",
    "## ou seja, um documento é atribuído à classe que tem a menor correspondência de complemento.\n",
    "\n",
    "\n",
    "\n",
    "## Referências:\n",
    "\n",
    "## Rennie, J. D., Shih, L., Teevan, J., & Karger, D. R. (2003). Tackling the poor assumptions of naive bayes text classifiers. In ICML (Vol. 3, pp. 616-623). (https://people.csail.mit.edu/jrennie/papers/icml03-nb.pdf)"
   ]
  },
  {
   "cell_type": "code",
   "execution_count": null,
   "metadata": {},
   "outputs": [],
   "source": []
  }
 ],
 "metadata": {
  "interpreter": {
   "hash": "66d7c0815ee3ec39f8a25542b36e8def4dce34ad6588e623c666e441b334d01c"
  },
  "kernelspec": {
   "display_name": "Python 3.8.3 64-bit ('base': conda)",
   "language": "python",
   "name": "python3"
  },
  "language_info": {
   "name": "python",
   "version": "3.8.3"
  },
  "orig_nbformat": 4
 },
 "nbformat": 4,
 "nbformat_minor": 2
}
