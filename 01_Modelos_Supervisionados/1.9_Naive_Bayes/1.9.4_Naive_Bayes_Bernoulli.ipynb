{
 "cells": [
  {
   "cell_type": "markdown",
   "metadata": {},
   "source": [
    "# 1.9.4 Bernoulli Naive Bayes \n",
    "\n",
    "        ## BernoulliNB implementa o treinamento Bayes ingênuo e algoritmos de classificação para dados que são distribuídos de acordo com distribuições Bernoulli multivariadas; ou seja, pode haver vários recursos, mas cada um é considerado uma variável de valor binário (Bernoulli, booleano). Portanto, essa classe requer que as amostras sejam representadas como vetores de recursos de valor binário; se for entregue qualquer outro tipo de dado, uma instância BernoulliNB pode binarizar sua entrada (dependendo do parâmetro binarize).\n",
    "\n",
    "        ## A regra de decisão para Bernoulli ingênuo Bayes é baseada em\n",
    "\n",
    "                ### P (x_i \\ mid y) = P (i \\ mid y) x_i + (1 - P (i \\ mid y)) (1 - x_i)\n",
    "\n",
    "\n",
    "        ## que difere da regra do NB multinomial por penalizar explicitamente a não ocorrência de uma característica i que é um indicador para a classe y, onde a variante multinomial simplesmente ignoraria uma característica não ocorrente.\n",
    "\n",
    "        ## No caso da classificação de texto, vetores de ocorrência de palavras (em vez de vetores de contagem de palavras) podem ser usados ​​para treinar e usar este classificador. BernoulliNB pode ter um desempenho melhor em alguns conjuntos de dados, especialmente aqueles com documentos mais curtos. É aconselhável avaliar os dois modelos, se o tempo permitir. \n",
    "\n",
    "\n",
    "        ## Referências:\n",
    "\n",
    "        ## C.D. Manning, P. Raghavan and H. Schütze (2008). Introduction to Information Retrieval. Cambridge University Press, pp. 234-265.\n",
    "\n",
    "        ## A. McCallum and K. Nigam (1998). A comparison of event models for Naive Bayes text classification. Proc. AAAI/ICML-98 Workshop on Learning for Text Categorization, pp. 41-48. (http://citeseerx.ist.psu.edu/viewdoc/summary?doi=10.1.1.46.1529)\n",
    "\n",
    "        ## V. Metsis, I. Androutsopoulos and G. Paliouras (2006). Spam filtering with Naive Bayes – Which Naive Bayes? 3rd Conf. on Email and Anti-Spam (CEAS). (http://citeseerx.ist.psu.edu/viewdoc/summary?doi=10.1.1.61.5542)\n"
   ]
  },
  {
   "cell_type": "code",
   "execution_count": null,
   "metadata": {},
   "outputs": [],
   "source": []
  }
 ],
 "metadata": {
  "interpreter": {
   "hash": "66d7c0815ee3ec39f8a25542b36e8def4dce34ad6588e623c666e441b334d01c"
  },
  "kernelspec": {
   "display_name": "Python 3.8.3 64-bit ('base': conda)",
   "language": "python",
   "name": "python3"
  },
  "language_info": {
   "name": "python",
   "version": "3.8.3"
  },
  "orig_nbformat": 4
 },
 "nbformat": 4,
 "nbformat_minor": 2
}
