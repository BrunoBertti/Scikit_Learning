{
 "cells": [
  {
   "cell_type": "markdown",
   "metadata": {},
   "source": [
    "# 1.9.5 Categorico Naive Bayes \n",
    "\n",
    "        ## CategoricalNB implementa o algoritmo Bayes ingênuo categórico para dados distribuídos categoricamente. Ele assume que cada característica, que é descrita pelo índice, tem sua própria distribuição categórica.\n",
    "\n",
    "        ## Para cada recurso i no conjunto de treinamento X, CategoricalNB estima uma distribuição categórica para cada recurso i de X condicionado na classe y. O conjunto de índices das amostras é definido como J = \\ {1, \\ dots, m \\}, com m como o número de amostras.\n",
    "\n",
    "        ##  A probabilidade da categoria t na característica i dada classe é estimada como:\n",
    "\n",
    "                ### P (x_i = t \\ mid y = c \\:; \\, \\ alpha) = \\ frac {N_ {tic} + \\ alpha} {N_ {c} +\n",
    "                ###                       \\ alpha n_i},\n",
    "\n",
    "\n",
    "\n",
    "        ## onde N_ {tic} = | \\ {j \\ in J \\ mid x_ {ij} = t, y_j = c \\} | é o número de vezes que a categoria t aparece nas amostras x_ {i}, que pertencem à classe c, N_ {c} = | \\ {j \\ in J \\ mid y_j = c \\} | é o número de amostras com classe c, \\ alpha é um parâmetro de suavização e n_i é o número de categorias disponíveis do recurso i.\n",
    "\n",
    "\n",
    "        ## CategoricalNB assume que a amostra da matriz X é codificada (por exemplo, com a ajuda de OrdinalEncoder) de modo que todas as categorias para cada recurso i sejam representadas com números 0, ..., n_i - 1 onde n_i é o número de categorias disponíveis do recurso i. \n",
    "        ## CategoricalNB assume que a amostra da matriz X é codificada (por exemplo, com a ajuda de OrdinalEncoder) de modo que todas as categorias para cada recurso i sejam representadas com números 0, ..., n_i - 1 onde n_i é o número de categorias disponíveis do recurso i. \n"
   ]
  },
  {
   "cell_type": "code",
   "execution_count": null,
   "metadata": {},
   "outputs": [],
   "source": []
  }
 ],
 "metadata": {
  "interpreter": {
   "hash": "66d7c0815ee3ec39f8a25542b36e8def4dce34ad6588e623c666e441b334d01c"
  },
  "kernelspec": {
   "display_name": "Python 3.8.3 64-bit ('base': conda)",
   "language": "python",
   "name": "python3"
  },
  "language_info": {
   "name": "python",
   "version": "3.8.3"
  },
  "orig_nbformat": 4
 },
 "nbformat": 4,
 "nbformat_minor": 2
}
