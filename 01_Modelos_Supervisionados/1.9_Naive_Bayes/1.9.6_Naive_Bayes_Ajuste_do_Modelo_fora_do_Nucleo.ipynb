{
 "cells": [
  {
   "cell_type": "markdown",
   "metadata": {},
   "source": [
    "# 1.9.6 Ajuste do modelo Bayes ingênuo fora do núcleo \n",
    "\n",
    "        ##Os modelos Naive Bayes podem ser usados para resolver problemas de classificação em grande escala para os quais o conjunto de treinamento completo pode não caber na memória. Para lidar com esse caso, MultinomialNB, BernoulliNB e GaussianNB expõem um método partial_fit que pode ser usado incrementalmente como feito com outros classificadores, conforme demonstrado em Classificação fora do núcleo de documentos de texto. Todos os classificadores Bayes ingênuos suportam ponderação de amostra.\n",
    "\n",
    "        ## Ao contrário do método fit, a primeira chamada para partial_fit precisa ser passada a lista de todos os rótulos de classe esperados.\n",
    "\n",
    "        ## Para obter uma visão geral das estratégias disponíveis no scikit-learn, consulte também a documentação de aprendizado fora do núcleo.\n",
    "\n",
    "        ## OBS: A chamada do método partial_fit dos modelos Bayes ingênuos introduz algumas sobrecargas computacionais. Recomenda-se usar tamanhos de blocos de dados que sejam os maiores possíveis, ou seja, conforme a RAM disponível permitir. "
   ]
  },
  {
   "cell_type": "code",
   "execution_count": null,
   "metadata": {},
   "outputs": [],
   "source": []
  }
 ],
 "metadata": {
  "interpreter": {
   "hash": "66d7c0815ee3ec39f8a25542b36e8def4dce34ad6588e623c666e441b334d01c"
  },
  "kernelspec": {
   "display_name": "Python 3.8.3 64-bit ('base': conda)",
   "language": "python",
   "name": "python3"
  },
  "language_info": {
   "name": "python",
   "version": "3.8.3"
  },
  "orig_nbformat": 4
 },
 "nbformat": 4,
 "nbformat_minor": 2
}
