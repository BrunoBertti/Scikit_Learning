{
 "cells": [
  {
   "cell_type": "code",
   "execution_count": null,
   "metadata": {},
   "outputs": [],
   "source": [
    "# 1.9.1. Gaussian Naive Bayes¶\n",
    "\n",
    "    ## GaussianNB implementa o algoritmo Gaussian Naive Bayes para classificação. A probabilidade dos recursos é assumida como gaussiana:\n",
    "\n",
    "        ### P (x_i \\ mid y) = \\ frac {1} {\\ sqrt {2 \\ pi \\ sigma ^ 2_y}} \\ exp \\ left (- \\ frac {(x_i - \\ mu_y) ^ 2} {2 \\ sigma ^ 2_y }\\direito)\n",
    "\n",
    "    # Os parâmetros \\ sigma_y e \\ mu_y são estimados usando a máxima verossimilhança. "
   ]
  },
  {
   "cell_type": "code",
   "execution_count": null,
   "metadata": {},
   "outputs": [],
   "source": [
    "from sklearn.datasets import load_iris\n",
    "from sklearn.model_selection import train_test_split\n",
    "from sklearn.naive_bayes import GaussianNB\n",
    "X,y = load_iris(return_X_y=True)\n",
    "X_train, X_test, y_train, y_test = train_test_split(X, y, test_size=0.5, random_state=0)\n",
    "gnb = GaussianNB()\n",
    "Y_pred = gnb.fit(X_train, y_train).predict(X_test)\n",
    "print('Número de pontos errados em um total de %d pontos: %d' % (X_test.shape[0], (y_test != Y_pred).sum()))"
   ]
  }
 ],
 "metadata": {
  "interpreter": {
   "hash": "66d7c0815ee3ec39f8a25542b36e8def4dce34ad6588e623c666e441b334d01c"
  },
  "kernelspec": {
   "display_name": "Python 3.8.3 64-bit ('base': conda)",
   "language": "python",
   "name": "python3"
  },
  "language_info": {
   "name": "python",
   "version": "3.8.3"
  },
  "orig_nbformat": 4
 },
 "nbformat": 4,
 "nbformat_minor": 2
}
